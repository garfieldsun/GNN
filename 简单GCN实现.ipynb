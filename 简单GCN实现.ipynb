{
 "cells": [
  {
   "cell_type": "markdown",
   "metadata": {},
   "source": [
    "# 用pytorch实现一个简单的图卷积神经网络"
   ]
  },
  {
   "cell_type": "markdown",
   "metadata": {},
   "source": [
    "采用networkx中自带的数据集来实现，Zachary karate club空手道俱乐部社会网络图，包含34个结点和78条边"
   ]
  },
  {
   "cell_type": "code",
   "execution_count": 1,
   "metadata": {},
   "outputs": [],
   "source": [
    "import networkx as nx"
   ]
  },
  {
   "cell_type": "code",
   "execution_count": 4,
   "metadata": {},
   "outputs": [
    {
     "name": "stdout",
     "output_type": "stream",
     "text": [
      "34\n",
      "78\n"
     ]
    }
   ],
   "source": [
    "G=nx.karate_club_graph()\n",
    "print(G.number_of_nodes())\n",
    "print(G.number_of_edges())"
   ]
  },
  {
   "cell_type": "code",
   "execution_count": 65,
   "metadata": {},
   "outputs": [
    {
     "data": {
      "text/plain": [
       "<networkx.classes.graph.Graph at 0x2493a832cf8>"
      ]
     },
     "execution_count": 65,
     "metadata": {},
     "output_type": "execute_result"
    }
   ],
   "source": [
    "G"
   ]
  },
  {
   "cell_type": "markdown",
   "metadata": {},
   "source": [
    "### GCN介绍\n",
    "\n",
    "跟CNN网络一样，GCN原理也是利用堆叠一定的卷积层来实现，层与层之间也有激活函数。\n",
    "1. 首先介绍拉普拉斯矩阵，定义为\n",
    "$$L=D-A$$\n",
    "其中A为图的邻接矩阵，D为图的度矩阵\n",
    "$$D=\\left\\{\\begin{matrix}结点i的度,i=j\\\\0,otherwise \\end{matrix}\\right.$$\n",
    "其泛化拉普拉斯矩阵可以表示为\n",
    "$$L_g=D^{-1/2}LD^{-1/2}= I-D^{-1/2}AD^{-1/2}$$\n",
    "其中I为单位矩阵     \n",
    "为了增强网络的稳定性，归一化拉普拉斯矩阵，表达式为：\n",
    "$$L_g=L_g+I$$\n",
    "因此图卷积层可以表示为\n",
    "$$X=\\sigma(L_gXW)$$"
   ]
  },
  {
   "cell_type": "code",
   "execution_count": 5,
   "metadata": {},
   "outputs": [],
   "source": [
    "import torch \n",
    "import torch.nn as nn\n",
    "import torch.nn.functional as F\n",
    "import torch.optim as optim\n",
    "import numpy as np\n",
    "import torch.nn.init as init"
   ]
  },
  {
   "cell_type": "code",
   "execution_count": 7,
   "metadata": {},
   "outputs": [
    {
     "data": {
      "text/plain": [
       "array([[1., 0., 0.],\n",
       "       [0., 1., 0.],\n",
       "       [0., 0., 1.]])"
      ]
     },
     "execution_count": 7,
     "metadata": {},
     "output_type": "execute_result"
    }
   ],
   "source": [
    "np.eye(3)"
   ]
  },
  {
   "cell_type": "markdown",
   "metadata": {},
   "source": [
    "#### 拉普拉斯归一化操作"
   ]
  },
  {
   "cell_type": "code",
   "execution_count": 8,
   "metadata": {},
   "outputs": [],
   "source": [
    "def lap_norm(adj):\n",
    "    #需要一个A，D\n",
    "    adj += np.eye(adj.shape[0])\n",
    "    degree = np.array(adj.sum(1))\n",
    "    degree = np.diag(np.power(degree,-0.5))\n",
    "    norm = degree.dot(adj).dot(degree)\n",
    "    return norm"
   ]
  },
  {
   "cell_type": "markdown",
   "metadata": {},
   "source": [
    "#### 卷积层设计"
   ]
  },
  {
   "cell_type": "code",
   "execution_count": 12,
   "metadata": {},
   "outputs": [],
   "source": [
    "class GC(nn.Moudle):\n",
    "    def __init__(self,input_size,output_size):\n",
    "        super(GC,self).__init__()\n",
    "        self.linear=nn.Linear(input_size,output_size)\n",
    "        \n",
    "    def forward(self,adj,features):\n",
    "        out=torch.mm(adj,features)\n",
    "        out=self.linear(out)\n",
    "        return out     \n",
    "    "
   ]
  },
  {
   "cell_type": "code",
   "execution_count": 68,
   "metadata": {},
   "outputs": [],
   "source": [
    "#不用Lineaer模块进行实现代码\n",
    "class GC_v2(nn.Module):\n",
    "    def __init__(self,input_size,output_size,dropout,bias=True):\n",
    "        super(GC_v2,self).__init__()\n",
    "        self.input_size=input_size\n",
    "        self.output_size=output_size\n",
    "        self.dropout=dropout\n",
    "        self.weight=nn.Parameter(torch.Tensor(input_size,output_size))\n",
    "        nn.init.xavier_normal_(self.weight)\n",
    "        if bias:\n",
    "            self.bias=nn.Parameter(torch.Tensor(output_size))\n",
    "            nn.init.xavier_normal_(self.bias)\n",
    "        else:\n",
    "            self.register_parameter('bias',None)\n",
    "                                    \n",
    "    def forward(self,adj,features):\n",
    "        support=torch.mm(self.dropout(features),self.weight)\n",
    "        out=torch.spmm(adj,support)\n",
    "        if self.bias is not None:\n",
    "            return out+self.bias\n",
    "        else:\n",
    "            return out"
   ]
  },
  {
   "cell_type": "code",
   "execution_count": 54,
   "metadata": {},
   "outputs": [],
   "source": [
    "class GCN(nn.Module):\n",
    "    def __init__(self,in_dim=34,hid_dim=5):\n",
    "        super(GCN,self).__init__()\n",
    "        self.gcn1 = GC(in_dim,hid_dim)\n",
    "        self.gcn2 = GC(hid_dim,2)\n",
    "    \n",
    "    def forward(self,adj,features):\n",
    "        out=self.gcn1(adj,features)\n",
    "        out=self.gcn2(adj,out)\n",
    "        return out    "
   ]
  },
  {
   "cell_type": "markdown",
   "metadata": {},
   "source": [
    "#### 训练参数"
   ]
  },
  {
   "cell_type": "code",
   "execution_count": 31,
   "metadata": {},
   "outputs": [],
   "source": [
    "learning_rate=0.1\n",
    "weight_dacay=5e-4\n",
    "epoches=50\n",
    "device='cuda' if torch.cuda.is_available() else 'cpu'"
   ]
  },
  {
   "cell_type": "code",
   "execution_count": 36,
   "metadata": {},
   "outputs": [
    {
     "data": {
      "text/plain": [
       "'Mr. Hi'"
      ]
     },
     "execution_count": 36,
     "metadata": {},
     "output_type": "execute_result"
    }
   ],
   "source": [
    "G.nodes[1]['club']"
   ]
  },
  {
   "cell_type": "markdown",
   "metadata": {},
   "source": [
    "#### 训练数据准备"
   ]
  },
  {
   "cell_type": "code",
   "execution_count": 37,
   "metadata": {},
   "outputs": [
    {
     "name": "stderr",
     "output_type": "stream",
     "text": [
      "C:\\Users\\admin\\Anaconda3\\lib\\site-packages\\ipykernel_launcher.py:1: DeprecationWarning: `np.float` is a deprecated alias for the builtin `float`. To silence this warning, use `float` by itself. Doing this will not modify any behavior and is safe. If you specifically wanted the numpy scalar type, use `np.float64` here.\n",
      "Deprecated in NumPy 1.20; for more details and guidance: https://numpy.org/devdocs/release/1.20.0-notes.html#deprecations\n",
      "  \"\"\"Entry point for launching an IPython kernel.\n"
     ]
    }
   ],
   "source": [
    "features=np.eye(34,dtype=np.float) #转化成one-hot数组\n",
    "\n",
    "y= np.zeros(G.number_of_nodes())\n",
    "\n",
    "for i in range(G.number_of_nodes()):\n",
    "    if G.nodes[i]['club']=='Mr. Hi':\n",
    "        y[i]=0\n",
    "    else:\n",
    "        y[i]=1\n",
    "        \n",
    "adj = np.zeros((34,34))\n",
    "for k,v in G.adj.items():\n",
    "    for item in v.keys():\n",
    "        adj[k][item]=1\n",
    "adj=lap_norm(adj)\n",
    "        "
   ]
  },
  {
   "cell_type": "markdown",
   "metadata": {},
   "source": [
    "#### 转化为tensor"
   ]
  },
  {
   "cell_type": "code",
   "execution_count": 38,
   "metadata": {},
   "outputs": [],
   "source": [
    "features=torch.tensor(features,dtype=torch.float).to(device)\n",
    "y=torch.tensor(y,dtype=torch.long).to(device)\n",
    "adj=torch.tensor(adj,dtype=torch.float).to(device)"
   ]
  },
  {
   "cell_type": "code",
   "execution_count": 39,
   "metadata": {},
   "outputs": [
    {
     "name": "stdout",
     "output_type": "stream",
     "text": [
      "tensor([0, 0, 0, 0, 0, 0, 0, 0, 0, 1, 0, 0, 0, 0, 1, 1, 0, 0, 1, 0, 1, 0, 1, 1,\n",
      "        1, 1, 1, 1, 1, 1, 1, 1, 1, 1], device='cuda:0')\n"
     ]
    }
   ],
   "source": [
    "print(y)"
   ]
  },
  {
   "cell_type": "markdown",
   "metadata": {},
   "source": [
    "#### 开始训练"
   ]
  },
  {
   "cell_type": "code",
   "execution_count": 55,
   "metadata": {},
   "outputs": [],
   "source": [
    "net=GCN().to(device)\n",
    "loss=nn.CrossEntropyLoss().to(device)\n",
    "optimizer=optim.Adam(net.parameters(),lr=learning_rate)\n",
    "\n",
    "def train():\n",
    "    net.train()\n",
    "    for epoch in range(epoches):\n",
    "        out=net(adj,features)\n",
    "        mask=[False if x!=0 and x!=33 else True for x in range(34)] #只选择管理员和教练进行训练\n",
    "        l=loss(out[mask],y[mask])\n",
    "        optimizer.zero_grad()\n",
    "        l.backward()\n",
    "        optimizer.step()\n",
    "        \n",
    "        print(f'epoch:{epoch},loss:{l.item()}')"
   ]
  },
  {
   "cell_type": "code",
   "execution_count": 56,
   "metadata": {},
   "outputs": [
    {
     "name": "stdout",
     "output_type": "stream",
     "text": [
      "epoch:0,loss:0.7726866006851196\n",
      "epoch:1,loss:0.6191319227218628\n",
      "epoch:2,loss:0.5415258407592773\n",
      "epoch:3,loss:0.45346829295158386\n",
      "epoch:4,loss:0.3087396025657654\n",
      "epoch:5,loss:0.16435620188713074\n",
      "epoch:6,loss:0.078377366065979\n",
      "epoch:7,loss:0.04070901870727539\n",
      "epoch:8,loss:0.022040247917175293\n",
      "epoch:9,loss:0.011285662651062012\n",
      "epoch:10,loss:0.00540471076965332\n",
      "epoch:11,loss:0.0024908781051635742\n",
      "epoch:12,loss:0.0011379718780517578\n",
      "epoch:13,loss:0.00052642822265625\n",
      "epoch:14,loss:0.00024950504302978516\n",
      "epoch:15,loss:0.00012230873107910156\n",
      "epoch:16,loss:6.222724914550781e-05\n",
      "epoch:17,loss:3.2901763916015625e-05\n",
      "epoch:18,loss:1.7881393432617188e-05\n",
      "epoch:19,loss:1.0013580322265625e-05\n",
      "epoch:20,loss:5.9604644775390625e-06\n",
      "epoch:21,loss:3.5762786865234375e-06\n",
      "epoch:22,loss:2.384185791015625e-06\n",
      "epoch:23,loss:1.430511474609375e-06\n",
      "epoch:24,loss:9.5367431640625e-07\n",
      "epoch:25,loss:7.152557373046875e-07\n",
      "epoch:26,loss:4.76837158203125e-07\n",
      "epoch:27,loss:2.384185791015625e-07\n",
      "epoch:28,loss:2.384185791015625e-07\n",
      "epoch:29,loss:2.384185791015625e-07\n",
      "epoch:30,loss:2.384185791015625e-07\n",
      "epoch:31,loss:0.0\n",
      "epoch:32,loss:0.0\n",
      "epoch:33,loss:0.0\n",
      "epoch:34,loss:0.0\n",
      "epoch:35,loss:0.0\n",
      "epoch:36,loss:0.0\n",
      "epoch:37,loss:0.0\n",
      "epoch:38,loss:0.0\n",
      "epoch:39,loss:0.0\n",
      "epoch:40,loss:0.0\n",
      "epoch:41,loss:0.0\n",
      "epoch:42,loss:0.0\n",
      "epoch:43,loss:0.0\n",
      "epoch:44,loss:0.0\n",
      "epoch:45,loss:0.0\n",
      "epoch:46,loss:0.0\n",
      "epoch:47,loss:0.0\n",
      "epoch:48,loss:0.0\n",
      "epoch:49,loss:0.0\n"
     ]
    }
   ],
   "source": [
    "train()"
   ]
  },
  {
   "cell_type": "code",
   "execution_count": 61,
   "metadata": {},
   "outputs": [
    {
     "data": {
      "text/plain": [
       "34"
      ]
     },
     "execution_count": 61,
     "metadata": {},
     "output_type": "execute_result"
    }
   ],
   "source": [
    "r=net(adj,features).cpu().detach().numpy()\n",
    "len(r)"
   ]
  },
  {
   "cell_type": "code",
   "execution_count": 64,
   "metadata": {},
   "outputs": [
    {
     "data": {
      "image/png": "[encoded data removed]",
      "text/plain": [
       "<Figure size 432x288 with 1 Axes>"
      ]
     },
     "metadata": {
      "needs_background": "light"
     },
     "output_type": "display_data"
    }
   ],
   "source": [
    "import matplotlib.pyplot as plt\n",
    "fig=plt.figure()\n",
    "for i in range(len(r)):\n",
    "    plt.scatter(r[i][0],r[i][1], color='r' if y[i]==0 else 'b')\n",
    "plt.show()"
   ]
  },
  {
   "cell_type": "code",
   "execution_count": 63,
   "metadata": {},
   "outputs": [],
   "source": []
  },
  {
   "cell_type": "code",
   "execution_count": null,
   "metadata": {},
   "outputs": [],
   "source": []
  }
 ],
 "metadata": {
  "kernelspec": {
   "display_name": "Python 3",
   "language": "python",
   "name": "python3"
  },
  "language_info": {
   "codemirror_mode": {
    "name": "ipython",
    "version": 3
   },
   "file_extension": ".py",
   "mimetype": "text/x-python",
   "name": "python",
   "nbconvert_exporter": "python",
   "pygments_lexer": "ipython3",
   "version": "3.7.3"
  }
 },
 "nbformat": 4,
 "nbformat_minor": 2
}
